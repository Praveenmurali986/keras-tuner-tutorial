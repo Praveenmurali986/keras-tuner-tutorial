{
  "nbformat": 4,
  "nbformat_minor": 0,
  "metadata": {
    "colab": {
      "private_outputs": true,
      "provenance": [],
      "authorship_tag": "ABX9TyNpGav95uQAZyXha6hfeISz",
      "include_colab_link": true
    },
    "kernelspec": {
      "name": "python3",
      "display_name": "Python 3"
    },
    "language_info": {
      "name": "python"
    }
  },
  "cells": [
    {
      "cell_type": "markdown",
      "metadata": {
        "id": "view-in-github",
        "colab_type": "text"
      },
      "source": [
        "<a href=\"https://colab.research.google.com/github/Praveenmurali986/keras-tuner-tutorial/blob/main/my_notebook_on_dl_keras_tuner_aug_27.ipynb\" target=\"_parent\"><img src=\"https://colab.research.google.com/assets/colab-badge.svg\" alt=\"Open In Colab\"/></a>"
      ]
    },
    {
      "cell_type": "code",
      "execution_count": null,
      "metadata": {
        "id": "ASH75-B9T9sP"
      },
      "outputs": [],
      "source": [
        "import tensorflow as tf\n",
        "from tensorflow import keras\n"
      ]
    },
    {
      "cell_type": "code",
      "source": [
        "!pip install -q -U keras-tuner"
      ],
      "metadata": {
        "id": "P6558PghUJU5"
      },
      "execution_count": null,
      "outputs": []
    },
    {
      "cell_type": "code",
      "source": [
        "import keras_tuner as kt"
      ],
      "metadata": {
        "id": "jhNp8-pOUJXI"
      },
      "execution_count": null,
      "outputs": []
    },
    {
      "cell_type": "markdown",
      "source": [
        "importing datasets of fashion from keras library"
      ],
      "metadata": {
        "id": "8VtJo6viWq_G"
      }
    },
    {
      "cell_type": "code",
      "source": [
        "(img_train, label_train), (img_test, label_test) = keras.datasets.fashion_mnist.load_data()"
      ],
      "metadata": {
        "id": "h6sY3I57UJZo"
      },
      "execution_count": null,
      "outputs": []
    },
    {
      "cell_type": "code",
      "source": [
        "label_train[3]"
      ],
      "metadata": {
        "id": "a3wjWFffUJbx"
      },
      "execution_count": null,
      "outputs": []
    },
    {
      "cell_type": "code",
      "source": [
        "img_train[3].shape"
      ],
      "metadata": {
        "id": "6ZOjQZ0NUJhI"
      },
      "execution_count": null,
      "outputs": []
    },
    {
      "cell_type": "code",
      "source": [
        "img_train[3]"
      ],
      "metadata": {
        "id": "3X1dODoDYo_y"
      },
      "execution_count": null,
      "outputs": []
    },
    {
      "cell_type": "code",
      "source": [
        "import matplotlib.pyplot as plt\n",
        "plt.imshow(img_train[0], cmap='binary')\n",
        "plt.axis('off')\n",
        "plt.show()"
      ],
      "metadata": {
        "id": "-qJq1SVIUJjw"
      },
      "execution_count": null,
      "outputs": []
    },
    {
      "cell_type": "code",
      "source": [
        "import matplotlib.pyplot as plt\n",
        "plt.imshow(img_train[1], cmap='binary')\n",
        "plt.axis('off')\n",
        "plt.show()"
      ],
      "metadata": {
        "id": "wz_UWLbSUJmp"
      },
      "execution_count": null,
      "outputs": []
    },
    {
      "cell_type": "code",
      "source": [
        "import matplotlib.pyplot as plt\n",
        "plt.imshow(img_train[2], cmap='binary')\n",
        "plt.axis('off')\n",
        "plt.show()"
      ],
      "metadata": {
        "id": "9dTQwAJ6UJpA"
      },
      "execution_count": null,
      "outputs": []
    },
    {
      "cell_type": "code",
      "source": [],
      "metadata": {
        "id": "v9TjeO-nfV8z"
      },
      "execution_count": null,
      "outputs": []
    },
    {
      "cell_type": "code",
      "source": [
        "#normalizing\n",
        "img_train=img_train.astype('float32')/255\n",
        "img_test=img_test.astype('float32')/255"
      ],
      "metadata": {
        "id": "NtzZASWkUJsB"
      },
      "execution_count": null,
      "outputs": []
    },
    {
      "cell_type": "code",
      "source": [
        "img_train[0]"
      ],
      "metadata": {
        "id": "y_MWCIWSUJug"
      },
      "execution_count": null,
      "outputs": []
    },
    {
      "cell_type": "code",
      "source": [
        "def model_builder(hp):\n",
        "  model=keras.Sequential()\n",
        "  #inputlayer\n",
        "  model.add(keras.layers.Flatten(input_shape=(28,28)))\n",
        "\n",
        "  hp_units=hp.Int('units',min_value=32,max_value=512,step=32)\n",
        "\n",
        "  model.add(keras.layers.Dense(units=hp_units,activation='relu'))\n",
        "  model.add(keras.layers.Dense(10))#output layer\n",
        "\n",
        "  # Tune the learning rate for the optimizer\n",
        "  # Choose an optimal value from 0.01, 0.001, or 0.0001\n",
        "\n",
        "  hp_learning_rate=hp.Choice('learning_rate',values=[1e-2,1e-3,1e-4])\n",
        "\n",
        "  model.compile(optimizer=keras.optimizers.Adam(learning_rate=hp_learning_rate),\n",
        "                loss=keras.losses.SparseCategoricalCrossentropy(from_logits=True),\n",
        "                metrics=['accuracy'])\n",
        "    #crossentropy since the problem is multiclass.\n",
        "  return model\n"
      ],
      "metadata": {
        "id": "qj5GUeYXUJw5"
      },
      "execution_count": null,
      "outputs": []
    },
    {
      "cell_type": "code",
      "source": [
        "tuner=kt.Hyperband(model_builder,\n",
        "                   objective='val_accuracy',\n",
        "                   max_epochs=10,\n",
        "                   factor=3,\n",
        "                   directory='my_dir',\n",
        "                   project_name='intro')"
      ],
      "metadata": {
        "id": "hjtTmxKbUJzo"
      },
      "execution_count": null,
      "outputs": []
    },
    {
      "cell_type": "code",
      "source": [
        "early_stoping=tf.keras.callbacks.EarlyStopping(monitor='val_loss',patience=5)"
      ],
      "metadata": {
        "id": "VZ3vfjBmUJ2Q"
      },
      "execution_count": null,
      "outputs": []
    },
    {
      "cell_type": "code",
      "source": [
        "tuner.search(img_train,label_train,epochs=50,validation_split=0.2,callbacks=[early_stoping])\n",
        "\n",
        "best_hps=tuner.get_best_hyperparameters(num_trials=1)[0]\n",
        "\n",
        "print(f\"\"\"\n",
        "The hyperparameter search is complete. The optimal number of units in the first densely-connected\n",
        "layer is {best_hps.get('units')} and the optimal learning rate for the optimizer\n",
        "is {best_hps.get('learning_rate')}.\n",
        "\"\"\")\n"
      ],
      "metadata": {
        "id": "esSfFM3_UJ44"
      },
      "execution_count": null,
      "outputs": []
    },
    {
      "cell_type": "code",
      "source": [
        "#trainig model with the tuned values\n",
        "model=tuner.hypermodel.build(best_hps)\n",
        "history=model.fit(img_train,label_train,epochs=50 ,validation_split=0.2,callbacks=early_stoping)\n",
        "\n"
      ],
      "metadata": {
        "id": "-rNKzdtGUJ7Z"
      },
      "execution_count": null,
      "outputs": []
    },
    {
      "cell_type": "code",
      "source": [
        "val_acc_per_epoch=history.history['val_accuracy']\n",
        "best_epoch=val_acc_per_epoch.index(max(val_acc_per_epoch))+1\n",
        "print('best epoch : %d'%(best_epoch,))"
      ],
      "metadata": {
        "id": "Af15KCJZUJ-I"
      },
      "execution_count": null,
      "outputs": []
    },
    {
      "cell_type": "code",
      "source": [
        "model=tuner.hypermodel.build(best_hps)\n",
        "history=model.fit(img_train,label_train,epochs=best_epoch ,validation_split=0.2)"
      ],
      "metadata": {
        "id": "lXNwJMuSUKAg"
      },
      "execution_count": null,
      "outputs": []
    },
    {
      "cell_type": "code",
      "source": [
        "eval_result=model.evaluate(img_test,label_test)\n",
        "print('[test loss, test accuracy]: ' , eval_result)"
      ],
      "metadata": {
        "id": "iwKXOqV9UKDZ"
      },
      "execution_count": null,
      "outputs": []
    },
    {
      "cell_type": "code",
      "source": [],
      "metadata": {
        "id": "o8RobmKPUKGB"
      },
      "execution_count": null,
      "outputs": []
    },
    {
      "cell_type": "code",
      "source": [],
      "metadata": {
        "id": "fU4FZFpLUKKx"
      },
      "execution_count": null,
      "outputs": []
    },
    {
      "cell_type": "code",
      "source": [],
      "metadata": {
        "id": "Yj8OCdmWUKNY"
      },
      "execution_count": null,
      "outputs": []
    },
    {
      "cell_type": "code",
      "source": [],
      "metadata": {
        "id": "BLr6kVk9UKP4"
      },
      "execution_count": null,
      "outputs": []
    },
    {
      "cell_type": "code",
      "source": [],
      "metadata": {
        "id": "LuVmGNr-UKSp"
      },
      "execution_count": null,
      "outputs": []
    }
  ]
}